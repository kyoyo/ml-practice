{
 "cells": [
  {
   "cell_type": "markdown",
   "metadata": {},
   "source": [
    "# 熵\n",
    "  熵是接收的每条消息中包含的信息的平均量\n",
    "  \n",
    "  公式：\n",
    "  \n",
    "  $ H(X) = \\sum_{i}P_{(x_{i})}I_{(x_{i})} = -\\sum_{i}P_{(x_{i})}log_{b}P_{(x_{i})} $\n",
    "  \n",
    "  >在这里b是对数所使用的底，通常是2,自然常数e，或是10。当b = 2，熵的单位是bit；当b = e，熵的单位是nat；而当b = 10,熵的单位是Hart。\n",
    "  \n",
    "  - P 表示每个元素概率\n",
    "  - I 表示每个元素的信息量\n",
    "  \n",
    "  例子：\n",
    "  \n",
    "  如英语有26个字母，假如每个字母在文章中出现次数平均的话，每个字母的讯息量为：\n",
    "  $ I_{e} = -log_{2}\\frac{1}{56}$"
   ]
  },
  {
   "cell_type": "markdown",
   "metadata": {},
   "source": [
    "# 交叉熵 Cross Entropy\n",
    "\n",
    "主要用于度量两个概率分布间的差异性信息。\n",
    "\n",
    "\n",
    "\n"
   ]
  }
 ],
 "metadata": {
  "kernelspec": {
   "display_name": "Python 3",
   "language": "python",
   "name": "python3"
  },
  "language_info": {
   "codemirror_mode": {
    "name": "ipython",
    "version": 3
   },
   "file_extension": ".py",
   "mimetype": "text/x-python",
   "name": "python",
   "nbconvert_exporter": "python",
   "pygments_lexer": "ipython3",
   "version": "3.5.1"
  }
 },
 "nbformat": 4,
 "nbformat_minor": 2
}
