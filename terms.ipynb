{
 "cells": [
  {
   "cell_type": "markdown",
   "metadata": {
    "collapsed": true
   },
   "source": [
    "#  用语集"
   ]
  },
  {
   "cell_type": "markdown",
   "metadata": {},
   "source": [
    "##  加权平均\n",
    "      在一组数据里，一个数据出现的次数称为权。\n",
    "      \n",
    "\n",
    "加权平均数  = $\\frac{x_1f_1 + x_2f_2 + ... + x_nf_n}{n}$"
   ]
  },
  {
   "cell_type": "markdown",
   "metadata": {},
   "source": [
    "## 方差\n",
    "$\\sigma^{2} = \\frac{\\sum(X - \\mu )^{2}}{N}$\n",
    "\n",
    " $\\sigma^{2}$为总体方差， X 为变量，  $\\mu$为总体均值，  N为总体例数。"
   ]
  },
  {
   "cell_type": "markdown",
   "metadata": {},
   "source": [
    "[LaTex 公式网站1](https://www.codecogs.com/latex/eqneditor.php?lang=zh-cn)\n",
    "\n",
    "[LaTex 公式网站2](http://zh.numberempire.com/texequationeditor/equationeditor.php)\n",
    "\n",
    "\n",
    "[Latex速查](http://www.domuse.com/markdown-and-latex-equation-handbook.html)\n"
   ]
  },
  {
   "cell_type": "markdown",
   "metadata": {},
   "source": [
    "# 导数\n",
    "\n",
    "$$ f^{'}(x) = \\lim_{\\Delta x \\rightarrow  0}\\frac{\\Delta y}{\\Delta x} \n",
    "= \\lim_{\\Delta x \\rightarrow  0}\\frac{f(x_{0} + \\Delta x) - f(x_{0})}{\\Delta x} $$\n",
    "\n",
    "\n",
    "![](images/daoshu.jpg)\n"
   ]
  },
  {
   "cell_type": "markdown",
   "metadata": {},
   "source": [
    "## 什么是全导数、偏导数、方向导数\n",
    "\n",
    "[原文地址](http://mp.weixin.qq.com/s/xTrIglIe5B6sK7-MpSBxEg)\n",
    "\n",
    "### 全导数\n",
    " \n",
    " 随便画一条线，这条线上某个点的切线对应到全导数\n",
    "![](images/quandaoshu.webp)"
   ]
  },
  {
   "cell_type": "markdown",
   "metadata": {},
   "source": [
    "### 偏导数\n",
    "\n",
    "平行于X轴或者Y轴的直线，这根直线决定的空间曲线，偏导数就是这根曲线的切线的斜率\n",
    "\n",
    "![](images/piandaoshu.webp)"
   ]
  },
  {
   "cell_type": "markdown",
   "metadata": {},
   "source": [
    "### 方向导数\n",
    "\n",
    "由射线决定的曲线的切线的斜率\n",
    "\n",
    "![](images/fangxiandaoshu.webp)\n",
    "\n",
    "\n",
    "偏导数和方向导数的曲线都在一个平面上，拍扁后不会变形，全导数的曲线不在一个平面上，拍扁后会变形"
   ]
  },
  {
   "cell_type": "markdown",
   "metadata": {},
   "source": [
    "### 梯度\n",
    "\n",
    "下图的矢量表示f(x,y) 在A 点处的梯度，切线是梯度方向的切线。\n",
    "\n",
    "梯度的方向是方向导数中取到最大值的方向，梯度的值是方向导数的最大值\n",
    "\n",
    "往下滑是梯度的反方向。因为梯度指的是增长最快的方向，而往下滑是减少最快的方向。\n",
    "\n",
    "![](images/tidu.jpg)\n",
    "\n",
    "![](images/tidu2.jpg)"
   ]
  },
  {
   "cell_type": "markdown",
   "metadata": {},
   "source": [
    "[方向导数 梯度 非常易懂 ](https://wenku.baidu.com/view/5dfb0b5a16fc700aba68fc1f.html)"
   ]
  },
  {
   "cell_type": "code",
   "execution_count": null,
   "metadata": {},
   "outputs": [],
   "source": []
  }
 ],
 "metadata": {
  "kernelspec": {
   "display_name": "Python 3",
   "language": "python",
   "name": "python3"
  },
  "language_info": {
   "codemirror_mode": {
    "name": "ipython",
    "version": 3
   },
   "file_extension": ".py",
   "mimetype": "text/x-python",
   "name": "python",
   "nbconvert_exporter": "python",
   "pygments_lexer": "ipython3",
   "version": "3.5.1"
  }
 },
 "nbformat": 4,
 "nbformat_minor": 1
}
