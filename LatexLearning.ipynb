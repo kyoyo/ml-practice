{
 "cells": [
  {
   "cell_type": "markdown",
   "metadata": {
    "collapsed": true
   },
   "source": [
    "Latex 设置字体大小命令由小到大依次为：\n",
    "\n",
    "\\tiny\n",
    "\n",
    "\\scriptsize\n",
    "\n",
    "\\footnotesize\n",
    "\n",
    "\\small\n",
    "\n",
    "\\normalsize\n",
    "\n",
    "\\large\n",
    "\n",
    "\\Large\n",
    "\n",
    "\\LARGE\n",
    "\n",
    "\\huge\n",
    "\n",
    "\\Huge\n"
   ]
  },
  {
   "cell_type": "code",
   "execution_count": null,
   "metadata": {},
   "outputs": [],
   "source": []
  }
 ],
 "metadata": {
  "kernelspec": {
   "display_name": "Python 3",
   "language": "python",
   "name": "python3"
  },
  "language_info": {
   "codemirror_mode": {
    "name": "ipython",
    "version": 3
   },
   "file_extension": ".py",
   "mimetype": "text/x-python",
   "name": "python",
   "nbconvert_exporter": "python",
   "pygments_lexer": "ipython3",
   "version": "3.5.1"
  }
 },
 "nbformat": 4,
 "nbformat_minor": 1
}
