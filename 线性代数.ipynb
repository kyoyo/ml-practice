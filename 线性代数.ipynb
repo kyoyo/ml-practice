{
 "cells": [
  {
   "cell_type": "markdown",
   "metadata": {},
   "source": [
    "# 导数\n",
    "\n",
    "## 基本法则\n",
    "\n",
    "- 法则一\n",
    "常数函数的导数为0\n",
    "\n",
    "- 法则二\n",
    "正整数幂法则 $ \\frac{\\mathrm{d} }{\\mathrm{d} x}x^n = nx^{n-1} $\n",
    "\n",
    "- 法则三\n",
    "乘常数法则 $ \\frac{\\mathrm{d} }{\\mathrm{dx}}(cu) = c\\frac{\\mathrm{d} }{\\mathrm{dx}} u  $\n",
    "\n",
    "- 法则四\n",
    "导数和法则 $ \\frac{\\mathrm{d} }{\\mathrm{dx}}(u + v) = \\frac{\\mathrm{du} }{\\mathrm{dx}} + \\frac{\\mathrm{dv} }{\\mathrm{dx}}  $\n",
    "\n",
    "- 法则五\n",
    "导数的积法则 $ \\frac{\\mathrm{d} }{\\mathrm{dx}}(uv) = u\\frac{\\mathrm{dv} }{\\mathrm{dx}} +  u\\frac{\\mathrm{dv} }{\\mathrm{dx}} $\n",
    "\n",
    "- 法则六\n",
    "导数的商法则 $ \\frac{\\mathrm{d} }{\\mathrm{dx}}(\\frac{u}{v}) = \\frac {v\\frac{\\mathrm{du} }{\\mathrm{dx}} - u\\frac{\\mathrm{dv} }{\\mathrm{dx}}} {v^{2}}   $\n",
    "\n",
    "- 法则七\n",
    "负整数次幂法则 $ \\frac{\\mathrm{d} }{\\mathrm{d} x}x^n = nx^{n-1} $\n",
    "\n"
   ]
  },
  {
   "cell_type": "markdown",
   "metadata": {},
   "source": [
    "## 三角函数的导数\n",
    "\n",
    "- (sin x)' = cosx \n",
    "- (cos x)' = -sin x\n",
    "- $(tan x)' = sec^{2}x$   \n",
    "- $(cot x)' = -csc^{2}x$\n",
    "  > (sec x)(cos x)  =1 \n",
    "  > (csc x)(sin x)  =1\n",
    "- (sec x)' = sec x tan x\n",
    "- (csc x)' = - csc x cot x"
   ]
  },
  {
   "cell_type": "markdown",
   "metadata": {},
   "source": [
    "## 指数对数函数的导数\n",
    "\n",
    "- $(a^{x})' = a^{x}ln a$\n",
    "- $ (e^{x})' = e^{x}$\n",
    "- $(log_{a}x)' = \\frac {1}{x ln a} $\n",
    "- $ (ln x)' = \\frac {1}{x}$\n",
    "\n",
    "\n",
    "\n",
    "> 底为10的对数是常用对数(common logarithm)，记为lg. 底为e的是自然对数(natural logarithm) 记为ln\n",
    "\n",
    "\n",
    "\n",
    "\n",
    "\n",
    "\n"
   ]
  },
  {
   "cell_type": "markdown",
   "metadata": {},
   "source": [
    "## 反函数的导数\n",
    "\n",
    "\n",
    "- $(arcsin x)' = \\frac{1}{\\sqrt{1-x^{2}}} $\n",
    "- $(arccos x)' = - \\frac{1}{\\sqrt{1-x^{2}}} $\n",
    "- $(arctan x)' = \\frac{1}{\\sqrt{1+x^{2}}} $\n",
    "- $(arccot x)' = - \\frac{1}{\\sqrt{1+x^{2}}} $\n"
   ]
  },
  {
   "cell_type": "markdown",
   "metadata": {},
   "source": [
    "## 符合函数的求导法则\n",
    "\n",
    "设 y = f(u), u = g(x), 则复合函数 y = f[g(x)]的导数为\n",
    "\n",
    "y'(x) = f'(u) g'(x)\n",
    "\n",
    "\n",
    "\n",
    "\n",
    "\n",
    "\n",
    "\n"
   ]
  },
  {
   "cell_type": "code",
   "execution_count": null,
   "metadata": {},
   "outputs": [],
   "source": [
    ""
   ]
  }
 ],
 "metadata": {
  "kernelspec": {
   "display_name": "Python 3",
   "language": "python",
   "name": "python3"
  },
  "language_info": {
   "codemirror_mode": {
    "name": "ipython",
    "version": 3.0
   },
   "file_extension": ".py",
   "mimetype": "text/x-python",
   "name": "python",
   "nbconvert_exporter": "python",
   "pygments_lexer": "ipython3",
   "version": "3.5.1"
  }
 },
 "nbformat": 4,
 "nbformat_minor": 0
}