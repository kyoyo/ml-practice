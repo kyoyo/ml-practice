{
 "cells": [
  {
   "cell_type": "markdown",
   "metadata": {
    "collapsed": true
   },
   "source": [
    "# 行列式\n",
    "\n",
    "\n",
    "线性方程组的解很难记，所以引进行列式\n",
    "<img src=\"images/hanglieshi1.png\" width=\"300px\" height=\"300px\" />\n",
    "\n",
    "\n",
    "用行列式来替代方程组的解\n",
    "<img src=\"images/hanglieshi2.png\" width=\"300px\" height=\"300px\" />\n",
    "\n",
    "\n",
    "一个精典的例子\n",
    "\n",
    "<img src=\"images/hanglieshi3.png\" width=\"300px\" height=\"300px\" />\n",
    "\n",
    "<img src=\"images/hanglieshi4.png\" width=\"300px\" height=\"300px\" />\n",
    "\n",
    "<img src=\"images/hanglieshi5.png\" width=\"300px\" height=\"300px\" />\n"
   ]
  },
  {
   "cell_type": "code",
   "execution_count": null,
   "metadata": {},
   "outputs": [],
   "source": []
  }
 ],
 "metadata": {
  "kernelspec": {
   "display_name": "Python 3",
   "language": "python",
   "name": "python3"
  },
  "language_info": {
   "codemirror_mode": {
    "name": "ipython",
    "version": 3
   },
   "file_extension": ".py",
   "mimetype": "text/x-python",
   "name": "python",
   "nbconvert_exporter": "python",
   "pygments_lexer": "ipython3",
   "version": "3.5.1"
  }
 },
 "nbformat": 4,
 "nbformat_minor": 1
}
